{
 "cells": [
  {
   "cell_type": "code",
   "execution_count": 1,
   "id": "90f1ee07",
   "metadata": {},
   "outputs": [
    {
     "name": "stdout",
     "output_type": "stream",
     "text": [
      "Fichier : -0.md\n",
      "  Titre : Brouillon\n",
      "  Thèmes : []\n",
      "Fichier : 00.md\n",
      "  Titre : Conclusion\n",
      "  Thèmes : []\n",
      "Fichier : 2.md\n",
      "  Titre : La Machine\n",
      "  Thèmes : ['nevrose']\n",
      "Fichier : 1.md\n",
      "  Titre : La Fabrique\n",
      "  Thèmes : ['homo faber\" >}}l\\'*homo faber*, fait de la fabrique un moyen de reconnaissance des individus entre eux[^homme]. L\\'immunité humaniste brandie en pleine main fait de la fabrique, et du *faire* qu\\'elle recouvre, un rapport au monde non seulement créatif ou productif mais agissant, soit, capable de déclencher des changements ou d\\'interrompre des phénomènes en cours{{< cite \"lorusso_liquider_2022', 'nevrose', 'matiere']\n",
      "Fichier : 0.md\n",
      "  Titre : Introduction\n",
      "  Thèmes : []\n"
     ]
    }
   ],
   "source": [
    "import os\n",
    "import re\n",
    "from collections import defaultdict\n",
    "\n",
    "pages_dir = \"./pages/\"\n",
    "\n",
    "class FileThemes:\n",
    "    def __init__(self, title):\n",
    "        self.title = title\n",
    "        self.themes = []\n",
    "\n",
    "themes_mapping = defaultdict(list)\n",
    "\n",
    "shortcode_pattern = r'\\{\\{< themes theme=\\\"(.+)\\\" >\\}\\}'\n",
    "for root, dirs, files in os.walk(pages_dir):\n",
    "    for file in files:\n",
    "        if file.endswith(\".md\"):\n",
    "            with open(os.path.join(root, file), 'r', encoding='utf-8') as f:\n",
    "                content = f.read()\n",
    "                metadata_match = re.search(r'^---(.*?)---', content, re.DOTALL)\n",
    "                if metadata_match:\n",
    "                    metadata = metadata_match.group(1)\n",
    "                    title_match = re.search(r'^title: \"(.*?)\"', metadata, re.MULTILINE)\n",
    "                    if title_match:\n",
    "                        title = title_match.group(1)\n",
    "                        shortcodes = re.findall(shortcode_pattern, content)\n",
    "                        file_info = FileThemes(title)\n",
    "                        for theme in shortcodes:\n",
    "                            file_info.themes.append(theme)\n",
    "                        themes_mapping[file].append(file_info)\n",
    "\n",
    "# Affichage des correspondances fichier - titres et thèmes\n",
    "for file, file_info_list in themes_mapping.items():\n",
    "    print(f\"Fichier : {file}\")\n",
    "    for file_info in file_info_list:\n",
    "        print(f\"  Titre : {file_info.title}\")\n",
    "        print(f\"  Thèmes : {file_info.themes}\")\n"
   ]
  },
  {
   "cell_type": "code",
   "execution_count": 13,
   "id": "5169fd2c",
   "metadata": {},
   "outputs": [
    {
     "data": {
      "text/plain": [
       "['-0.md', '4.md', '3.md', '00.md', '2.md', '5.md', '1.md', '0.md']"
      ]
     },
     "execution_count": 13,
     "metadata": {},
     "output_type": "execute_result"
    }
   ],
   "source": [
    "these_index = [file for file in os.listdir('./pages/') if file.endswith(\".md\")]\n",
    "these_index"
   ]
  },
  {
   "cell_type": "code",
   "execution_count": null,
   "id": "b312c437",
   "metadata": {},
   "outputs": [],
   "source": [
    "import graphviz \n",
    "#bibli qui contient ce que je veux pour mettre en réseaux\n",
    "\n",
    "already_done = [] #créé une base de données des edges\n",
    "\n",
    "for key, value in parsed_yaml.items():\n",
    "    liens = value.get(\"liens\",[])\n",
    "    if len(liens) > 1:\n",
    "        for lien1 in liens:\n",
    "            for lien2 in liens:\n",
    "                unite = tuple(sorted([lien1, lien2, key]))\n",
    "                if lien1 != lien2 and unite not in already_done:\n",
    "                    graphique.edge(lien1, lien2, label = key, arrowhead=None)\n",
    "                    already_done.append(unite)\n",
    "graphique\n",
    "graphique.view()"
   ]
  }
 ],
 "metadata": {
  "kernelspec": {
   "display_name": "Python 3 (ipykernel)",
   "language": "python",
   "name": "python3"
  },
  "language_info": {
   "codemirror_mode": {
    "name": "ipython",
    "version": 3
   },
   "file_extension": ".py",
   "mimetype": "text/x-python",
   "name": "python",
   "nbconvert_exporter": "python",
   "pygments_lexer": "ipython3",
   "version": "3.8.10"
  }
 },
 "nbformat": 4,
 "nbformat_minor": 5
}
