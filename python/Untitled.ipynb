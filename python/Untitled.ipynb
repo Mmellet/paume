{
 "cells": [
  {
   "cell_type": "code",
   "execution_count": 5,
   "id": "6caa3d1d",
   "metadata": {},
   "outputs": [],
   "source": [
    "import os\n",
    "import re\n",
    "from collections import Counter\n",
    "\n",
    "pages_dir = \"../content/pages/\"\n",
    "themes_counter = Counter()\n",
    "themes_mapping = {}  # Dictionnaire pour stocker les correspondances fichier - thématiques\n",
    "\n",
    "shortcode_pattern = r'\\{\\{< themes theme=\"([^\"]+)\" >\\}\\}'\n",
    "for root, dirs, files in os.walk(pages_dir):\n",
    "    for file in files:\n",
    "        if file.endswith(\".md\"):\n",
    "            with open(os.path.join(root, file), 'r', encoding='utf-8') as f:\n",
    "                content = f.read()\n",
    "                metadata = re.search(r'^---(.*?)---', content, re.DOTALL)\n",
    "                if metadata:\n",
    "                    metadata = metadata.group(1)\n",
    "                    shortcodes = re.findall(shortcode_pattern, metadata)\n",
    "                    for theme in shortcodes:\n",
    "                        themes_counter[theme] += 1\n",
    "                        if theme not in themes_mapping:\n",
    "                            themes_mapping[theme] = []\n",
    "                        themes_mapping[theme].append(os.path.join(root, file))\n",
    "\n",
    "# Affichage des correspondances fichier - thématiques\n",
    "for theme, files in themes_mapping.items():\n",
    "    print(f\"Thématique : {theme}\")\n",
    "    for file in files:\n",
    "        print(f\"  Fichier : {file}\")\n"
   ]
  }
 ],
 "metadata": {
  "kernelspec": {
   "display_name": "Python 3 (ipykernel)",
   "language": "python",
   "name": "python3"
  },
  "language_info": {
   "codemirror_mode": {
    "name": "ipython",
    "version": 3
   },
   "file_extension": ".py",
   "mimetype": "text/x-python",
   "name": "python",
   "nbconvert_exporter": "python",
   "pygments_lexer": "ipython3",
   "version": "3.8.10"
  }
 },
 "nbformat": 4,
 "nbformat_minor": 5
}
